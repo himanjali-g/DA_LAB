{
 "cells": [
  {
   "cell_type": "markdown",
   "id": "f2a9854b",
   "metadata": {},
   "source": [
    "# Week 1"
   ]
  },
  {
   "cell_type": "code",
   "execution_count": 1,
   "id": "d2f1b1f0",
   "metadata": {},
   "outputs": [
    {
     "name": "stdout",
     "output_type": "stream",
     "text": [
      "Enter a number: 1\n",
      "Enter a number: 2\n",
      "Enter a number: 3\n",
      "Enter a number: 4\n",
      "Enter a number: 5\n",
      "Enter a number: 6\n",
      "Enter a number: 7\n",
      "Enter a number: 8\n",
      "Enter a number: 9\n",
      "Enter a number: 10\n",
      "The average of these numbers is: 5.5\n"
     ]
    }
   ],
   "source": [
    "sum=0\n",
    "count = 0\n",
    "\n",
    "while count<10:\n",
    "    n = float(input('Enter a number: '))\n",
    "    sum = sum + n\n",
    "    count = count + 1\n",
    "\n",
    "average = sum/10\n",
    "\n",
    "print(f'The average of these numbers is: {average}')"
   ]
  },
  {
   "cell_type": "code",
   "execution_count": 2,
   "id": "7567f8ff",
   "metadata": {},
   "outputs": [
    {
     "name": "stdout",
     "output_type": "stream",
     "text": [
      "3.764351\n"
     ]
    }
   ],
   "source": [
    "import math\n",
    "def geometricMean(arr, n) :\n",
    "    product = 1\n",
    "    for i in range(0,n) :\n",
    "        product = product * arr[i]\n",
    "    gm = (float)(math.pow(product, (1 / n)))\n",
    "    return (float)(gm)\n",
    "arr = [ 1, 2, 3, 4, 5, 6, 7, 8]\n",
    "n = len(arr)\n",
    "print ('{0:.6f}'.format(geometricMean(arr, n)))"
   ]
  },
  {
   "cell_type": "code",
   "execution_count": 1,
   "id": "414daf93",
   "metadata": {},
   "outputs": [
    {
     "name": "stdout",
     "output_type": "stream",
     "text": [
      "Enter a number: 6\n",
      "6 is not a prime number\n"
     ]
    }
   ],
   "source": [
    "import math\n",
    "def is_prime(n):\n",
    "    if n <= 1:\n",
    "        return False\n",
    "\n",
    "    for i in range(2, int(n**0.5)+1):\n",
    "        if (n%i)==0:\n",
    "            return False\n",
    "        else:\n",
    "            return True\n",
    "\n",
    "n=int(input(\"Enter a number: \"))\n",
    "if is_prime(n):\n",
    "    print(f\"{n} is a prime number\")\n",
    "else:\n",
    "    print(f\"{n} is not a prime number\")\n"
   ]
  },
  {
   "cell_type": "code",
   "execution_count": 7,
   "id": "6662af09",
   "metadata": {},
   "outputs": [],
   "source": [
    "def search(arr, x):\n",
    " \n",
    "    for i in range(len(arr)):\n",
    " \n",
    "        if arr[i] == x:\n",
    "            return i\n",
    " \n",
    "    return -1"
   ]
  },
  {
   "cell_type": "code",
   "execution_count": 8,
   "id": "74b2403d",
   "metadata": {},
   "outputs": [],
   "source": [
    "def search(arr, curr_index, key):\n",
    "    if curr_index == -1:\n",
    "        return -1\n",
    "    if arr[curr_index] == key:\n",
    "        return curr_index\n",
    "    return search(arr, curr_index-1, key)"
   ]
  },
  {
   "cell_type": "code",
   "execution_count": 15,
   "id": "c0fd3d8b",
   "metadata": {},
   "outputs": [],
   "source": [
    "import math\n",
    "\n",
    "def area_of_triangle(a, b, c):\n",
    "    s = (a + b + c) / 2\n",
    "    area = math.sqrt(s * (s - a) * (s - b) * (s - c))\n",
    "    \n",
    "    return area"
   ]
  },
  {
   "cell_type": "code",
   "execution_count": 16,
   "id": "82d5acc2",
   "metadata": {},
   "outputs": [
    {
     "name": "stdout",
     "output_type": "stream",
     "text": [
      "Enter a: 12\n",
      "Enter b: 12\n",
      "Enter c: 12\n",
      "Area of triangle is: 62\n"
     ]
    }
   ],
   "source": [
    "a=int(input(\"Enter a: \"))\n",
    "b=int(input(\"Enter b: \"))\n",
    "c=int(input(\"Enter c: \"))\n",
    "A=int(area_of_triangle(a,b,c))\n",
    "print(f'Area of triangle is: {A}')"
   ]
  },
  {
   "cell_type": "markdown",
   "id": "7960ecb7",
   "metadata": {},
   "source": [
    "## Main Questions"
   ]
  },
  {
   "cell_type": "markdown",
   "id": "8e599ac5",
   "metadata": {},
   "source": [
    "1. Create a data frame with details of 10 students and columns as Roll Number, Name, \n",
    "Gender, Marks1, Marks2, Marks3. "
   ]
  },
  {
   "cell_type": "code",
   "execution_count": 40,
   "id": "c9ed7a2a",
   "metadata": {},
   "outputs": [
    {
     "name": "stdout",
     "output_type": "stream",
     "text": [
      "   Roll Number     Name Gender  Marks1  Marks2  Marks3\n",
      "0          101    Alice      F      85      90      79\n",
      "1          102      Bob      M      78      85      83\n",
      "2          103  Charlie      M      92      88      95\n",
      "3          104    David      M      67      72      70\n",
      "4          105      Eve      F      88      78      84\n",
      "5          106    Frank      M      75      82      88\n",
      "6          107    Grace      F      91      89      92\n",
      "7          108   Hannah      F      80      87      81\n",
      "8          109    Isaac      M      70      76      73\n",
      "9          110     Jack      M      83      81      90\n"
     ]
    }
   ],
   "source": [
    "import pandas as pd\n",
    "data = {\n",
    "    'Roll Number': [101, 102, 103, 104, 105, 106, 107, 108, 109, 110],\n",
    "    'Name': ['Alice', 'Bob', 'Charlie', 'David', 'Eve', 'Frank', 'Grace', 'Hannah', 'Isaac', 'Jack'],\n",
    "    'Gender': ['F', 'M', 'M', 'M', 'F', 'M', 'F', 'F', 'M', 'M'],\n",
    "    'Marks1': [85, 78, 92, 67, 88, 75, 91, 80, 70, 83],\n",
    "    'Marks2': [90, 85, 88, 72, 78, 82, 89, 87, 76, 81],\n",
    "    'Marks3': [79, 83, 95, 70, 84, 88, 92, 81, 73, 90]\n",
    "}\n",
    "\n",
    "df = pd.DataFrame(data)\n",
    "print(df)"
   ]
  },
  {
   "cell_type": "markdown",
   "id": "0129472c",
   "metadata": {},
   "source": [
    "2. Create a new column with total marks "
   ]
  },
  {
   "cell_type": "code",
   "execution_count": 41,
   "id": "d4d33a3a",
   "metadata": {},
   "outputs": [
    {
     "name": "stdout",
     "output_type": "stream",
     "text": [
      "   Roll Number     Name Gender  Marks1  Marks2  Marks3  Total Marks\n",
      "0          101    Alice      F      85      90      79          254\n",
      "1          102      Bob      M      78      85      83          246\n",
      "2          103  Charlie      M      92      88      95          275\n",
      "3          104    David      M      67      72      70          209\n",
      "4          105      Eve      F      88      78      84          250\n",
      "5          106    Frank      M      75      82      88          245\n",
      "6          107    Grace      F      91      89      92          272\n",
      "7          108   Hannah      F      80      87      81          248\n",
      "8          109    Isaac      M      70      76      73          219\n",
      "9          110     Jack      M      83      81      90          254\n"
     ]
    }
   ],
   "source": [
    "df['Total Marks'] = df['Marks1'] + df['Marks2'] + df['Marks3']\n",
    "print(df)"
   ]
  },
  {
   "cell_type": "markdown",
   "id": "66f65dec",
   "metadata": {},
   "source": [
    "3.Find the lowest marks in Marks1"
   ]
  },
  {
   "cell_type": "code",
   "execution_count": 42,
   "id": "4490753f",
   "metadata": {},
   "outputs": [
    {
     "name": "stdout",
     "output_type": "stream",
     "text": [
      "67\n"
     ]
    }
   ],
   "source": [
    "lowest_marks_Marks1 = df['Marks1'].min()\n",
    "print(lowest_marks_Marks1)"
   ]
  },
  {
   "cell_type": "markdown",
   "id": "930cfe58",
   "metadata": {},
   "source": [
    "4.Find the Highest marks in Marks2"
   ]
  },
  {
   "cell_type": "code",
   "execution_count": 43,
   "id": "5b26e6e7",
   "metadata": {},
   "outputs": [
    {
     "name": "stdout",
     "output_type": "stream",
     "text": [
      "90\n"
     ]
    }
   ],
   "source": [
    "highest_marks_Marks2 = df['Marks2'].max()\n",
    "print(highest_marks_Marks2)"
   ]
  },
  {
   "cell_type": "markdown",
   "id": "96596e57",
   "metadata": {},
   "source": [
    "5. Find the average marks in Marks3 "
   ]
  },
  {
   "cell_type": "code",
   "execution_count": 44,
   "id": "ba520e67",
   "metadata": {},
   "outputs": [
    {
     "name": "stdout",
     "output_type": "stream",
     "text": [
      "83.5\n"
     ]
    }
   ],
   "source": [
    "average_marks_Marks3 = df['Marks3'].mean()\n",
    "print(average_marks_Marks3)"
   ]
  },
  {
   "cell_type": "markdown",
   "id": "8d353025",
   "metadata": {},
   "source": [
    "6. Find student name with highest average "
   ]
  },
  {
   "cell_type": "code",
   "execution_count": 45,
   "id": "cc8de759",
   "metadata": {},
   "outputs": [
    {
     "name": "stdout",
     "output_type": "stream",
     "text": [
      "Charlie\n"
     ]
    }
   ],
   "source": [
    "highest_average_student = df.loc[df['Total Marks'].idxmax(), 'Name']\n",
    "print(highest_average_student)"
   ]
  },
  {
   "cell_type": "markdown",
   "id": "db4fa795",
   "metadata": {},
   "source": [
    "7. Find how many students failed in Marks2 (<40)"
   ]
  },
  {
   "cell_type": "code",
   "execution_count": 46,
   "id": "1637fd98",
   "metadata": {},
   "outputs": [
    {
     "name": "stdout",
     "output_type": "stream",
     "text": [
      "0\n"
     ]
    }
   ],
   "source": [
    "num_students_failed_Marks2 = df[df['Marks2'] < 40].shape[0]\n",
    "print(num_students_failed_Marks2)"
   ]
  }
 ],
 "metadata": {
  "kernelspec": {
   "display_name": "Python 3 (ipykernel)",
   "language": "python",
   "name": "python3"
  },
  "language_info": {
   "codemirror_mode": {
    "name": "ipython",
    "version": 3
   },
   "file_extension": ".py",
   "mimetype": "text/x-python",
   "name": "python",
   "nbconvert_exporter": "python",
   "pygments_lexer": "ipython3",
   "version": "3.9.12"
  }
 },
 "nbformat": 4,
 "nbformat_minor": 5
}
