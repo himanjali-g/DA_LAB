{
 "cells": [
  {
   "cell_type": "markdown",
   "id": "52eb4a16",
   "metadata": {},
   "source": [
    "# 230968038 - WEEK8 - 09/10/2024 - HIMANJALI GANAPA "
   ]
  },
  {
   "cell_type": "markdown",
   "id": "bb878940",
   "metadata": {},
   "source": [
    "## Clustering Exercise\n",
    "1. Read and write a summary of the metadata\n",
    "2. Select only the transactions that have occurred from 01/04/2011 and 09/12/2011 and create a dataset\n",
    "3. Calculate the RFM values for each customer (by customer ID). RFM represents:\n",
    "  * R (Recency) - Recency should be calculated as the number of months before he or she has made a purchase from the online store. If he/she made a purchase in the month of December 2011, then the Recency should be 0. If purchase is made in November 2011 then Recency should be 1 and so on and so forth. \n",
    "  * F (Frequency) - Number of invoices by the cutomer from 01/04/2011 nd 09/12/2011\n",
    "  * M (Monetary Value) - Total spend by the customer from 01/04/2011 nd 09/12/2011\n",
    "4. Use elbow method to identify how many cutomer segments exist, using the RFM values for each customer.\n",
    "5. Create the customer segments with K-Means algorithm by using number of clusters suggested by elbow method.\n",
    "6. <b>from sklearn.cluster import KMeans</b>\n",
    "  * Plot the clusters in a scatter plot and mark each segment differently using Implot\n",
    "  * Print the cluster centers of each customer segment and explain them intuitively. \n",
    "  * Create the customer segments with Agglomerative algorithm by using number of clusters as suggested by elbow method\n",
    "7. <b>from sklearn.cluster import AgglomerativeClustering</b>\n",
    "  * Visualize the clusters using the dendogram\n",
    "  * Compare the clusters obtained using KMeans vs. Agglomeration"
   ]
  },
  {
   "cell_type": "markdown",
   "id": "a663bbf3",
   "metadata": {},
   "source": [
    "## 1.Read and write a summary of data."
   ]
  },
  {
   "cell_type": "code",
   "execution_count": 2,
   "id": "bcec298b",
   "metadata": {},
   "outputs": [],
   "source": [
    "import pandas as pd\n",
    "import matplotlib.pyplot as plt\n",
    "import seaborn as sns\n",
    "import numpy as np"
   ]
  },
  {
   "cell_type": "code",
   "execution_count": 3,
   "id": "8a829c9b",
   "metadata": {},
   "outputs": [
    {
     "data": {
      "text/plain": [
       "0        2010-12-01 08:26:00\n",
       "1        2010-12-01 08:26:00\n",
       "2        2010-12-01 08:26:00\n",
       "3        2010-12-01 08:26:00\n",
       "4        2010-12-01 08:26:00\n",
       "                 ...        \n",
       "541904   2011-12-09 12:50:00\n",
       "541905   2011-12-09 12:50:00\n",
       "541906   2011-12-09 12:50:00\n",
       "541907   2011-12-09 12:50:00\n",
       "541908   2011-12-09 12:50:00\n",
       "Name: InvoiceDate, Length: 541909, dtype: datetime64[ns]"
      ]
     },
     "execution_count": 3,
     "metadata": {},
     "output_type": "execute_result"
    }
   ],
   "source": [
    "df1=pd.read_excel(\"D:\\\\230968038- HIMANJALI GANAPA\\\\DA Lab\\\\Pdf Questions\\\\Online Retail.xlsx\")\n",
    "df1['InvoiceDate']=pd.to_datetime(df1[\"InvoiceDate\"])\n",
    "df1[\"InvoiceDate\"]"
   ]
  },
  {
   "cell_type": "code",
   "execution_count": 4,
   "id": "1aebdaf7",
   "metadata": {},
   "outputs": [
    {
     "name": "stdout",
     "output_type": "stream",
     "text": [
      "{'Shape': (541909, 8), 'Columns': ['InvoiceNo', 'StockCode', 'Description', 'Quantity', 'InvoiceDate', 'UnitPrice', 'CustomerID', 'Country'], 'df Types': {'InvoiceNo': dtype('O'), 'StockCode': dtype('O'), 'Description': dtype('O'), 'Quantity': dtype('int64'), 'InvoiceDate': dtype('<M8[ns]'), 'UnitPrice': dtype('float64'), 'CustomerID': dtype('float64'), 'Country': dtype('O')}, 'Missing Values': {'InvoiceNo': 0, 'StockCode': 0, 'Description': 1454, 'Quantity': 0, 'InvoiceDate': 0, 'UnitPrice': 0, 'CustomerID': 135080, 'Country': 0}}\n",
      "\n"
     ]
    }
   ],
   "source": [
    "metadata_sum = {\n",
    "    'Shape': df1.shape,\n",
    "    'Columns': df1.columns.tolist(),\n",
    "    'df Types': df1.dtypes.to_dict(),\n",
    "    'Missing Values': df1.isnull().sum().to_dict(),\n",
    "}\n",
    "print(f\"{metadata_sum}\\n\" )"
   ]
  },
  {
   "cell_type": "markdown",
   "id": "eae8d3e2",
   "metadata": {},
   "source": [
    "## 2.Select only the transactions that have occurred from 01/04/2011 and 09/12/2011 and create a dataset"
   ]
  },
  {
   "cell_type": "code",
   "execution_count": 5,
   "id": "2ea929f5",
   "metadata": {},
   "outputs": [],
   "source": [
    "filtered_df1 = df1[(df1['InvoiceDate'] >= '2011-04-01') & (df1['InvoiceDate'] <= '2011-12-09')]"
   ]
  },
  {
   "cell_type": "code",
   "execution_count": 5,
   "id": "2d0dcfd6",
   "metadata": {},
   "outputs": [
    {
     "data": {
      "text/html": [
       "<div>\n",
       "<style scoped>\n",
       "    .dataframe tbody tr th:only-of-type {\n",
       "        vertical-align: middle;\n",
       "    }\n",
       "\n",
       "    .dataframe tbody tr th {\n",
       "        vertical-align: top;\n",
       "    }\n",
       "\n",
       "    .dataframe thead th {\n",
       "        text-align: right;\n",
       "    }\n",
       "</style>\n",
       "<table border=\"1\" class=\"dataframe\">\n",
       "  <thead>\n",
       "    <tr style=\"text-align: right;\">\n",
       "      <th></th>\n",
       "      <th>InvoiceNo</th>\n",
       "      <th>StockCode</th>\n",
       "      <th>Description</th>\n",
       "      <th>Quantity</th>\n",
       "      <th>InvoiceDate</th>\n",
       "      <th>UnitPrice</th>\n",
       "      <th>CustomerID</th>\n",
       "      <th>Country</th>\n",
       "    </tr>\n",
       "  </thead>\n",
       "  <tbody>\n",
       "    <tr>\n",
       "      <th>142083</th>\n",
       "      <td>548550</td>\n",
       "      <td>22662</td>\n",
       "      <td>LUNCH BAG DOLLY GIRL DESIGN</td>\n",
       "      <td>10</td>\n",
       "      <td>2011-04-01 08:22:00</td>\n",
       "      <td>1.65</td>\n",
       "      <td>18161.0</td>\n",
       "      <td>United Kingdom</td>\n",
       "    </tr>\n",
       "    <tr>\n",
       "      <th>142084</th>\n",
       "      <td>548550</td>\n",
       "      <td>22296</td>\n",
       "      <td>HEART IVORY TRELLIS LARGE</td>\n",
       "      <td>12</td>\n",
       "      <td>2011-04-01 08:22:00</td>\n",
       "      <td>1.65</td>\n",
       "      <td>18161.0</td>\n",
       "      <td>United Kingdom</td>\n",
       "    </tr>\n",
       "    <tr>\n",
       "      <th>142085</th>\n",
       "      <td>548550</td>\n",
       "      <td>21790</td>\n",
       "      <td>VINTAGE SNAP CARDS</td>\n",
       "      <td>12</td>\n",
       "      <td>2011-04-01 08:22:00</td>\n",
       "      <td>0.85</td>\n",
       "      <td>18161.0</td>\n",
       "      <td>United Kingdom</td>\n",
       "    </tr>\n",
       "    <tr>\n",
       "      <th>142086</th>\n",
       "      <td>548550</td>\n",
       "      <td>22622</td>\n",
       "      <td>BOX OF VINTAGE ALPHABET BLOCKS</td>\n",
       "      <td>2</td>\n",
       "      <td>2011-04-01 08:22:00</td>\n",
       "      <td>9.95</td>\n",
       "      <td>18161.0</td>\n",
       "      <td>United Kingdom</td>\n",
       "    </tr>\n",
       "    <tr>\n",
       "      <th>142087</th>\n",
       "      <td>548550</td>\n",
       "      <td>22393</td>\n",
       "      <td>PAPERWEIGHT VINTAGE COLLAGE</td>\n",
       "      <td>6</td>\n",
       "      <td>2011-04-01 08:22:00</td>\n",
       "      <td>2.55</td>\n",
       "      <td>18161.0</td>\n",
       "      <td>United Kingdom</td>\n",
       "    </tr>\n",
       "    <tr>\n",
       "      <th>...</th>\n",
       "      <td>...</td>\n",
       "      <td>...</td>\n",
       "      <td>...</td>\n",
       "      <td>...</td>\n",
       "      <td>...</td>\n",
       "      <td>...</td>\n",
       "      <td>...</td>\n",
       "      <td>...</td>\n",
       "    </tr>\n",
       "    <tr>\n",
       "      <th>540272</th>\n",
       "      <td>581474</td>\n",
       "      <td>21253</td>\n",
       "      <td>SET OF PICTURE FRAME  STICKERS</td>\n",
       "      <td>1</td>\n",
       "      <td>2011-12-08 20:01:00</td>\n",
       "      <td>0.79</td>\n",
       "      <td>12748.0</td>\n",
       "      <td>United Kingdom</td>\n",
       "    </tr>\n",
       "    <tr>\n",
       "      <th>540273</th>\n",
       "      <td>581474</td>\n",
       "      <td>22108</td>\n",
       "      <td>PING! MICROWAVE PLATE</td>\n",
       "      <td>1</td>\n",
       "      <td>2011-12-08 20:01:00</td>\n",
       "      <td>1.25</td>\n",
       "      <td>12748.0</td>\n",
       "      <td>United Kingdom</td>\n",
       "    </tr>\n",
       "    <tr>\n",
       "      <th>540274</th>\n",
       "      <td>581474</td>\n",
       "      <td>22167</td>\n",
       "      <td>OVAL WALL MIRROR DIAMANTE</td>\n",
       "      <td>1</td>\n",
       "      <td>2011-12-08 20:01:00</td>\n",
       "      <td>9.95</td>\n",
       "      <td>12748.0</td>\n",
       "      <td>United Kingdom</td>\n",
       "    </tr>\n",
       "    <tr>\n",
       "      <th>540275</th>\n",
       "      <td>581474</td>\n",
       "      <td>21929</td>\n",
       "      <td>JUMBO BAG PINK VINTAGE PAISLEY</td>\n",
       "      <td>1</td>\n",
       "      <td>2011-12-08 20:01:00</td>\n",
       "      <td>2.08</td>\n",
       "      <td>12748.0</td>\n",
       "      <td>United Kingdom</td>\n",
       "    </tr>\n",
       "    <tr>\n",
       "      <th>540276</th>\n",
       "      <td>581474</td>\n",
       "      <td>20717</td>\n",
       "      <td>STRAWBERRY SHOPPER BAG</td>\n",
       "      <td>1</td>\n",
       "      <td>2011-12-08 20:01:00</td>\n",
       "      <td>1.25</td>\n",
       "      <td>12748.0</td>\n",
       "      <td>United Kingdom</td>\n",
       "    </tr>\n",
       "  </tbody>\n",
       "</table>\n",
       "<p>398194 rows × 8 columns</p>\n",
       "</div>"
      ],
      "text/plain": [
       "       InvoiceNo StockCode                     Description  Quantity  \\\n",
       "142083    548550     22662     LUNCH BAG DOLLY GIRL DESIGN        10   \n",
       "142084    548550     22296       HEART IVORY TRELLIS LARGE        12   \n",
       "142085    548550     21790              VINTAGE SNAP CARDS        12   \n",
       "142086    548550     22622  BOX OF VINTAGE ALPHABET BLOCKS         2   \n",
       "142087    548550     22393     PAPERWEIGHT VINTAGE COLLAGE         6   \n",
       "...          ...       ...                             ...       ...   \n",
       "540272    581474     21253  SET OF PICTURE FRAME  STICKERS         1   \n",
       "540273    581474     22108           PING! MICROWAVE PLATE         1   \n",
       "540274    581474     22167      OVAL WALL MIRROR DIAMANTE          1   \n",
       "540275    581474     21929  JUMBO BAG PINK VINTAGE PAISLEY         1   \n",
       "540276    581474     20717          STRAWBERRY SHOPPER BAG         1   \n",
       "\n",
       "               InvoiceDate  UnitPrice  CustomerID         Country  \n",
       "142083 2011-04-01 08:22:00       1.65     18161.0  United Kingdom  \n",
       "142084 2011-04-01 08:22:00       1.65     18161.0  United Kingdom  \n",
       "142085 2011-04-01 08:22:00       0.85     18161.0  United Kingdom  \n",
       "142086 2011-04-01 08:22:00       9.95     18161.0  United Kingdom  \n",
       "142087 2011-04-01 08:22:00       2.55     18161.0  United Kingdom  \n",
       "...                    ...        ...         ...             ...  \n",
       "540272 2011-12-08 20:01:00       0.79     12748.0  United Kingdom  \n",
       "540273 2011-12-08 20:01:00       1.25     12748.0  United Kingdom  \n",
       "540274 2011-12-08 20:01:00       9.95     12748.0  United Kingdom  \n",
       "540275 2011-12-08 20:01:00       2.08     12748.0  United Kingdom  \n",
       "540276 2011-12-08 20:01:00       1.25     12748.0  United Kingdom  \n",
       "\n",
       "[398194 rows x 8 columns]"
      ]
     },
     "execution_count": 5,
     "metadata": {},
     "output_type": "execute_result"
    }
   ],
   "source": [
    "filtered_df1"
   ]
  },
  {
   "cell_type": "markdown",
   "id": "ae24344f",
   "metadata": {},
   "source": [
    "## 3. Calculate the RFM values for each customer (by customer ID)."
   ]
  },
  {
   "cell_type": "code",
   "execution_count": 6,
   "id": "7466d207",
   "metadata": {},
   "outputs": [
    {
     "data": {
      "text/html": [
       "<div>\n",
       "<style scoped>\n",
       "    .dataframe tbody tr th:only-of-type {\n",
       "        vertical-align: middle;\n",
       "    }\n",
       "\n",
       "    .dataframe tbody tr th {\n",
       "        vertical-align: top;\n",
       "    }\n",
       "\n",
       "    .dataframe thead th {\n",
       "        text-align: right;\n",
       "    }\n",
       "</style>\n",
       "<table border=\"1\" class=\"dataframe\">\n",
       "  <thead>\n",
       "    <tr style=\"text-align: right;\">\n",
       "      <th></th>\n",
       "      <th>CustomerID</th>\n",
       "      <th>Recency</th>\n",
       "      <th>Frequency</th>\n",
       "      <th>Monetary_Value</th>\n",
       "    </tr>\n",
       "  </thead>\n",
       "  <tbody>\n",
       "    <tr>\n",
       "      <th>0</th>\n",
       "      <td>12347.0</td>\n",
       "      <td>0</td>\n",
       "      <td>5</td>\n",
       "      <td>3122.82</td>\n",
       "    </tr>\n",
       "    <tr>\n",
       "      <th>1</th>\n",
       "      <td>12348.0</td>\n",
       "      <td>3</td>\n",
       "      <td>2</td>\n",
       "      <td>677.00</td>\n",
       "    </tr>\n",
       "    <tr>\n",
       "      <th>2</th>\n",
       "      <td>12349.0</td>\n",
       "      <td>1</td>\n",
       "      <td>1</td>\n",
       "      <td>1757.55</td>\n",
       "    </tr>\n",
       "    <tr>\n",
       "      <th>3</th>\n",
       "      <td>12352.0</td>\n",
       "      <td>1</td>\n",
       "      <td>3</td>\n",
       "      <td>944.23</td>\n",
       "    </tr>\n",
       "    <tr>\n",
       "      <th>4</th>\n",
       "      <td>12353.0</td>\n",
       "      <td>7</td>\n",
       "      <td>1</td>\n",
       "      <td>89.00</td>\n",
       "    </tr>\n",
       "    <tr>\n",
       "      <th>...</th>\n",
       "      <td>...</td>\n",
       "      <td>...</td>\n",
       "      <td>...</td>\n",
       "      <td>...</td>\n",
       "    </tr>\n",
       "    <tr>\n",
       "      <th>3869</th>\n",
       "      <td>18278.0</td>\n",
       "      <td>3</td>\n",
       "      <td>1</td>\n",
       "      <td>173.90</td>\n",
       "    </tr>\n",
       "    <tr>\n",
       "      <th>3870</th>\n",
       "      <td>18281.0</td>\n",
       "      <td>6</td>\n",
       "      <td>1</td>\n",
       "      <td>80.82</td>\n",
       "    </tr>\n",
       "    <tr>\n",
       "      <th>3871</th>\n",
       "      <td>18282.0</td>\n",
       "      <td>0</td>\n",
       "      <td>3</td>\n",
       "      <td>176.60</td>\n",
       "    </tr>\n",
       "    <tr>\n",
       "      <th>3872</th>\n",
       "      <td>18283.0</td>\n",
       "      <td>0</td>\n",
       "      <td>13</td>\n",
       "      <td>1776.98</td>\n",
       "    </tr>\n",
       "    <tr>\n",
       "      <th>3873</th>\n",
       "      <td>18287.0</td>\n",
       "      <td>2</td>\n",
       "      <td>3</td>\n",
       "      <td>1837.28</td>\n",
       "    </tr>\n",
       "  </tbody>\n",
       "</table>\n",
       "<p>3874 rows × 4 columns</p>\n",
       "</div>"
      ],
      "text/plain": [
       "      CustomerID  Recency  Frequency  Monetary_Value\n",
       "0        12347.0        0          5         3122.82\n",
       "1        12348.0        3          2          677.00\n",
       "2        12349.0        1          1         1757.55\n",
       "3        12352.0        1          3          944.23\n",
       "4        12353.0        7          1           89.00\n",
       "...          ...      ...        ...             ...\n",
       "3869     18278.0        3          1          173.90\n",
       "3870     18281.0        6          1           80.82\n",
       "3871     18282.0        0          3          176.60\n",
       "3872     18283.0        0         13         1776.98\n",
       "3873     18287.0        2          3         1837.28\n",
       "\n",
       "[3874 rows x 4 columns]"
      ]
     },
     "execution_count": 6,
     "metadata": {},
     "output_type": "execute_result"
    }
   ],
   "source": [
    "reference_date = pd.Timestamp('2011-12-31')\n",
    "rfm = filtered_df1.groupby('CustomerID').agg(\n",
    "    Recency=('InvoiceDate', lambda x: (reference_date - x.max()).days // 30),\n",
    "    Frequency=('InvoiceNo', 'nunique'),\n",
    "    Monetary_Value=('Quantity', lambda x: (x * filtered_df1.loc[x.index, 'UnitPrice']).sum())\n",
    ").reset_index()\n",
    "rfm"
   ]
  },
  {
   "cell_type": "markdown",
   "id": "c103b743",
   "metadata": {},
   "source": [
    "## 4. Use elbow method to identify how many cutomer segments exist, using the RFM values for each customer."
   ]
  },
  {
   "cell_type": "code",
   "execution_count": 7,
   "id": "31c0d18a",
   "metadata": {},
   "outputs": [
    {
     "data": {
      "image/png": "[encoded data removed]",
      "text/plain": [
       "<Figure size 720x432 with 1 Axes>"
      ]
     },
     "metadata": {
      "needs_background": "light"
     },
     "output_type": "display_data"
    }
   ],
   "source": [
    "from sklearn.cluster import KMeans\n",
    "distortions = []\n",
    "K = range(1, 11)\n",
    "\n",
    "for k in K:\n",
    "    kmeans = KMeans(n_clusters=k)\n",
    "    kmeans.fit(rfm[['Recency', 'Frequency', 'Monetary_Value']])\n",
    "    distortions.append(kmeans.inertia_)\n",
    "\n",
    "# Plot the elbow curve\n",
    "plt.figure(figsize=(10, 6))\n",
    "plt.plot(K, distortions, 'bo-')\n",
    "plt.xlabel('Number of clusters')\n",
    "plt.ylabel('Distortion')\n",
    "plt.title('Elbow Method for Optimal k')\n",
    "plt.show()"
   ]
  },
  {
   "cell_type": "markdown",
   "id": "e75ad343",
   "metadata": {},
   "source": [
    "## 5. Create the customer segments with K-Means algorithm by using number of clusters suggested by elbow method.\n",
    "## 6a.Plot the clusters in a scatter plot and mark each segment differently using Implot\n",
    "## Print the cluster centers of each customer segment and explain them intuitively."
   ]
  },
  {
   "cell_type": "code",
   "execution_count": null,
   "id": "039bdec0",
   "metadata": {},
   "outputs": [],
   "source": [
    "#The graph indicates elbow point to be between 2 and 4 ,i.e., 3 clusters are optimal"
   ]
  },
  {
   "cell_type": "code",
   "execution_count": 9,
   "id": "bee9d29e",
   "metadata": {},
   "outputs": [
    {
     "data": {
      "image/png": "[encoded data removed]",
      "text/plain": [
       "<Figure size 403.5x360 with 1 Axes>"
      ]
     },
     "metadata": {
      "needs_background": "light"
     },
     "output_type": "display_data"
    },
    {
     "name": "stdout",
     "output_type": "stream",
     "text": [
      "[[2.32864949e+00 3.86104606e+00 1.18499044e+03]\n",
      " [0.00000000e+00 9.07500000e+01 1.69445050e+05]\n",
      " [2.59259259e-01 4.36296296e+01 3.72821481e+04]]\n"
     ]
    }
   ],
   "source": [
    "kmeans = KMeans(n_clusters=3)\n",
    "rfm['Cluster'] = kmeans.fit_predict(rfm[['Recency', 'Frequency', 'Monetary_Value']])\n",
    "sns.lmplot(data=rfm, x='Recency', y='Monetary_Value', hue='Cluster', palette='Set1', markers=[\"o\", \"s\", \"D\"])\n",
    "plt.title('Customer Segments (K-Means)')\n",
    "plt.show()\n",
    "# Print cluster centers\n",
    "print(kmeans.cluster_centers_)"
   ]
  },
  {
   "cell_type": "markdown",
   "id": "96b0236c",
   "metadata": {},
   "source": [
    "### 6b. Create the customer segments with Agglomerative algorithm by using number of clusters as suggested by elbow method.\n",
    "### 7a. Visualize the clusters using the dendogram"
   ]
  },
  {
   "cell_type": "code",
   "execution_count": 18,
   "id": "8fc03c86",
   "metadata": {},
   "outputs": [
    {
     "data": {
      "image/png": "[encoded data removed]",
      "text/plain": [
       "<Figure size 720x504 with 1 Axes>"
      ]
     },
     "metadata": {
      "needs_background": "light"
     },
     "output_type": "display_data"
    }
   ],
   "source": [
    "from scipy import stats\n",
    "from sklearn.cluster import KMeans\n",
    "from sklearn.cluster import AgglomerativeClustering\n",
    "import scipy.cluster.hierarchy as sch\n",
    "plt.figure(figsize=(10, 7))\n",
    "dendrogram = sch.dendrogram(sch.linkage(rfm[['Recency', 'Frequency', 'Monetary_Value']], method='ward'))\n",
    "plt.title('Dendrogram for Agglomerative Clustering')\n",
    "plt.xlabel('Customers')\n",
    "plt.xticks(rotation=90)\n",
    "plt.ylabel('Euclidean distances')\n",
    "plt.show()"
   ]
  },
  {
   "cell_type": "markdown",
   "id": "851b0ace",
   "metadata": {},
   "source": [
    "\n",
    "### 7b. Compare the clusters obtained using KMeans vs. Agglomeration"
   ]
  },
  {
   "cell_type": "code",
   "execution_count": 23,
   "id": "80e41363",
   "metadata": {},
   "outputs": [
    {
     "name": "stdout",
     "output_type": "stream",
     "text": [
      "   CustomerID  Cluster  Cluster_Agglomerative\n",
      "0     12347.0        0                      2\n",
      "1     12348.0        0                      2\n",
      "2     12349.0        0                      2\n",
      "3     12352.0        0                      2\n",
      "4     12353.0        0                      2\n"
     ]
    },
    {
     "data": {
      "image/png": "[encoded data removed]",
      "text/plain": [
       "<Figure size 432x288 with 1 Axes>"
      ]
     },
     "metadata": {
      "needs_background": "light"
     },
     "output_type": "display_data"
    },
    {
     "data": {
      "image/png": "[encoded data removed]",
      "text/plain": [
       "<Figure size 432x288 with 1 Axes>"
      ]
     },
     "metadata": {
      "needs_background": "light"
     },
     "output_type": "display_data"
    }
   ],
   "source": [
    "from sklearn.cluster import AgglomerativeClustering\n",
    "\n",
    "agglo = AgglomerativeClustering(n_clusters=3)\n",
    "rfm['Cluster_Agglomerative'] = agglo.fit_predict(rfm[['Recency', 'Frequency', 'Monetary_Value']])\n",
    "comparison = rfm[['CustomerID', 'Cluster', 'Cluster_Agglomerative']]\n",
    "print(comparison.head())\n",
    "\n",
    "sns.countplot(x='Cluster', data=comparison)\n",
    "plt.title('K-Means Cluster Distribution')\n",
    "plt.show()\n",
    "sns.countplot(x='Cluster_Agglomerative', data=comparison)\n",
    "plt.title('Agglomerative Cluster Distribution')\n",
    "plt.show()"
   ]
  },
  {
   "cell_type": "code",
   "execution_count": 20,
   "id": "ba98267c",
   "metadata": {},
   "outputs": [
    {
     "name": "stdout",
     "output_type": "stream",
     "text": [
      "K-means Clusters: \n",
      "0    3843\n",
      "2      27\n",
      "1       4\n",
      "Name: Cluster, dtype: int64\n",
      "\n",
      "Agglomerative Clusters: \n",
      "2    3845\n",
      "0      26\n",
      "1       3\n",
      "Name: Cluster_Agglomerative, dtype: int64\n"
     ]
    }
   ],
   "source": [
    "print(\"K-means Clusters: \")\n",
    "print(rfm['Cluster'].value_counts())\n",
    "print(\"\\nAgglomerative Clusters: \")\n",
    "print(rfm['Cluster_Agglomerative'].value_counts())"
   ]
  },
  {
   "cell_type": "code",
   "execution_count": null,
   "id": "48a6db12",
   "metadata": {},
   "outputs": [],
   "source": []
  }
 ],
 "metadata": {
  "kernelspec": {
   "display_name": "Python 3 (ipykernel)",
   "language": "python",
   "name": "python3"
  },
  "language_info": {
   "codemirror_mode": {
    "name": "ipython",
    "version": 3
   },
   "file_extension": ".py",
   "mimetype": "text/x-python",
   "name": "python",
   "nbconvert_exporter": "python",
   "pygments_lexer": "ipython3",
   "version": "3.9.12"
  }
 },
 "nbformat": 4,
 "nbformat_minor": 5
}
