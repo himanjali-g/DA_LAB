{
 "cells": [
  {
   "cell_type": "markdown",
   "id": "882ff24c",
   "metadata": {},
   "source": [
    "# EXERCISE 2 – Descriptive Analytics and Visualization using Matplotlib, Seaborn: "
   ]
  },
  {
   "cell_type": "code",
   "execution_count": 1,
   "id": "51111c13",
   "metadata": {},
   "outputs": [],
   "source": [
    "import pandas as pd\n",
    "import seaborn as sns\n",
    "import matplotlib.pyplot as plt\n",
    "import numpy as np"
   ]
  },
  {
   "cell_type": "code",
   "execution_count": 2,
   "id": "2b93a88f",
   "metadata": {},
   "outputs": [
    {
     "name": "stdout",
     "output_type": "stream",
     "text": [
      "   id  season       city        date                        team1  \\\n",
      "0   1    2017  Hyderabad  05-04-2017          Sunrisers Hyderabad   \n",
      "1   2    2017       Pune  06-04-2017               Mumbai Indians   \n",
      "2   3    2017     Rajkot  07-04-2017                Gujarat Lions   \n",
      "3   4    2017     Indore  08-04-2017       Rising Pune Supergiant   \n",
      "4   5    2017  Bangalore  08-04-2017  Royal Challengers Bangalore   \n",
      "\n",
      "                         team2                  toss_winner toss_decision  \\\n",
      "0  Royal Challengers Bangalore  Royal Challengers Bangalore         field   \n",
      "1       Rising Pune Supergiant       Rising Pune Supergiant         field   \n",
      "2        Kolkata Knight Riders        Kolkata Knight Riders         field   \n",
      "3              Kings XI Punjab              Kings XI Punjab         field   \n",
      "4             Delhi Daredevils  Royal Challengers Bangalore           bat   \n",
      "\n",
      "   result  dl_applied                       winner  win_by_runs  \\\n",
      "0  normal           0          Sunrisers Hyderabad           35   \n",
      "1  normal           0       Rising Pune Supergiant            0   \n",
      "2  normal           0        Kolkata Knight Riders            0   \n",
      "3  normal           0              Kings XI Punjab            0   \n",
      "4  normal           0  Royal Challengers Bangalore           15   \n",
      "\n",
      "   win_by_wickets player_of_match                                      venue  \\\n",
      "0               0    Yuvraj Singh  Rajiv Gandhi International Stadium, Uppal   \n",
      "1               7       SPD Smith    Maharashtra Cricket Association Stadium   \n",
      "2              10         CA Lynn     Saurashtra Cricket Association Stadium   \n",
      "3               6      GJ Maxwell                     Holkar Cricket Stadium   \n",
      "4               0       KM Jadhav                      M Chinnaswamy Stadium   \n",
      "\n",
      "          umpire1        umpire2 umpire3  \n",
      "0     AY Dandekar       NJ Llong     NaN  \n",
      "1  A Nand Kishore         S Ravi     NaN  \n",
      "2     Nitin Menon      CK Nandan     NaN  \n",
      "3    AK Chaudhary  C Shamshuddin     NaN  \n",
      "4             NaN            NaN     NaN  \n"
     ]
    }
   ],
   "source": [
    "df=pd.read_csv(\"D:\\\\230968038- HIMANJALI GANAPA\\\\DA Lab\\\\ipl.csv\")\n",
    "print(df.head())"
   ]
  },
  {
   "cell_type": "raw",
   "id": "17d2c377",
   "metadata": {},
   "source": [
    "1) Count the total number of matches conducted in the year 2008 \n",
    "2) Find the city name where maximum and minimum number of matches conducted. \n",
    "3) Find total count of matches city wise. \n",
    "4) Find the Team which is maximum and minimum toss winner. \n",
    "5) Check the toss decision that the team has taken. \n",
    "6) Count the total number of normal and tie matches. \n",
    "7) Find the team names where the match result is tie. \n",
    "8) Find the team name who won the match by highest runs. \n",
    "9) Find the team name who won the match by lowest runs. \n",
    "10) Find the players who was awarded “Player of the match” more than 3 times. \n",
    "11) Find the player who was awarded as player of the match maximum times. \n",
    "12) Find the Venue where the team won the match by highest runs. \n",
    "13) Find the Venue where the team won the match by lowest runs. \n",
    "14) Find the Umpires who did umpiring maximum times. \n",
    "15) Find the Total matches played in each season \n",
    "16) Find the Total runs in each season \n",
    "17) No. of tosses won by each team \n",
    "18) Visualize the Toss decision across seasons \n",
    "19) Find the Dismissal Kind and Visualize using best fit graph \n",
    "20) Find the Top 10 run scorers in IPL and Visualize using best fit graph \n",
    "21) Visualize the Highest MOM award winners \n",
    "22) Find Total Number of Played Matches by each team \n",
    "23) Compare Total Played Matches vs Winning Matches vs Win Rate \n",
    "24) Find the Distribution of Won the Matches \n",
    "25) Ratio between Total Matches and Win Matches \n",
    "26) What is the choice of each team after winning the toss?"
   ]
  },
  {
   "cell_type": "code",
   "execution_count": 3,
   "id": "96a5ece0",
   "metadata": {},
   "outputs": [
    {
     "name": "stdout",
     "output_type": "stream",
     "text": [
      "Total number of matches conducted in 2008: 58\n"
     ]
    }
   ],
   "source": [
    "matches_2008 = df[df['season'] == 2008]\n",
    "total_matches_2008 = matches_2008.shape[0]\n",
    "print(f\"Total number of matches conducted in 2008: {total_matches_2008}\")"
   ]
  },
  {
   "cell_type": "code",
   "execution_count": 6,
   "id": "4d82e9e5",
   "metadata": {},
   "outputs": [
    {
     "name": "stdout",
     "output_type": "stream",
     "text": [
      "City with maximum matches: Mumbai\n",
      "City with minimum matches: Bloemfontein\n"
     ]
    }
   ],
   "source": [
    "city_match_count=df['city'].value_counts()\n",
    "max_city = city_match_count.idxmax()\n",
    "min_city = city_match_count.idxmin()\n",
    "print(f\"City with maximum matches: {max_city}\")\n",
    "print(f\"City with minimum matches: {min_city}\")"
   ]
  },
  {
   "cell_type": "code",
   "execution_count": 5,
   "id": "df2af913",
   "metadata": {},
   "outputs": [
    {
     "name": "stdout",
     "output_type": "stream",
     "text": [
      "Mumbai            101\n",
      "Kolkata            77\n",
      "Delhi              74\n",
      "Bangalore          66\n",
      "Hyderabad          64\n",
      "Chennai            57\n",
      "Jaipur             47\n",
      "Chandigarh         46\n",
      "Pune               38\n",
      "Durban             15\n",
      "Bengaluru          14\n",
      "Visakhapatnam      13\n",
      "Centurion          12\n",
      "Ahmedabad          12\n",
      "Rajkot             10\n",
      "Mohali             10\n",
      "Indore              9\n",
      "Dharamsala          9\n",
      "Johannesburg        8\n",
      "Cuttack             7\n",
      "Ranchi              7\n",
      "Port Elizabeth      7\n",
      "Cape Town           7\n",
      "Abu Dhabi           7\n",
      "Sharjah             6\n",
      "Raipur              6\n",
      "Kochi               5\n",
      "Kanpur              4\n",
      "Nagpur              3\n",
      "Kimberley           3\n",
      "East London         3\n",
      "Bloemfontein        2\n",
      "Name: city, dtype: int64\n"
     ]
    }
   ],
   "source": [
    "city_match_count = df['city'].value_counts()\n",
    "print(city_match_count)"
   ]
  },
  {
   "cell_type": "code",
   "execution_count": 7,
   "id": "3157b92a",
   "metadata": {},
   "outputs": [
    {
     "name": "stdout",
     "output_type": "stream",
     "text": [
      "Team with maximum toss wins: Mumbai Indians\n",
      "Team with minimum toss wins: Rising Pune Supergiant\n"
     ]
    }
   ],
   "source": [
    "toss_winner_count = df['toss_winner'].value_counts()\n",
    "max_toss_winner = toss_winner_count.idxmax()\n",
    "min_toss_winner = toss_winner_count.idxmin()\n",
    "print(f\"Team with maximum toss wins: {max_toss_winner}\")\n",
    "print(f\"Team with minimum toss wins: {min_toss_winner}\")"
   ]
  },
  {
   "cell_type": "code",
   "execution_count": 8,
   "id": "db778d3c",
   "metadata": {},
   "outputs": [
    {
     "name": "stdout",
     "output_type": "stream",
     "text": [
      "field    463\n",
      "bat      293\n",
      "Name: toss_decision, dtype: int64\n"
     ]
    }
   ],
   "source": [
    "toss_decision_count = df['toss_decision'].value_counts()\n",
    "print(toss_decision_count)"
   ]
  },
  {
   "cell_type": "code",
   "execution_count": 10,
   "id": "9e94eb65",
   "metadata": {},
   "outputs": [
    {
     "name": "stdout",
     "output_type": "stream",
     "text": [
      "Count of Normal and Tie Matches:\n",
      "normal    743\n",
      "tie         9\n",
      "Name: result, dtype: int64\n"
     ]
    }
   ],
   "source": [
    "filtered_results = df[df['result'].isin(['normal', 'tie'])]\n",
    "result_counts = filtered_results['result'].value_counts()\n",
    "print(\"Count of Normal and Tie Matches:\")\n",
    "print(result_counts)"
   ]
  },
  {
   "cell_type": "code",
   "execution_count": 13,
   "id": "359c8d58",
   "metadata": {},
   "outputs": [
    {
     "name": "stdout",
     "output_type": "stream",
     "text": [
      "Teams where match result is tie:\n",
      "['Gujarat Lions' 'Rajasthan Royals' 'Kings XI Punjab'\n",
      " 'Royal Challengers Bangalore' 'Delhi Daredevils' 'Kolkata Knight Riders'\n",
      " 'Mumbai Indians' 'Chennai Super Kings' 'Sunrisers Hyderabad'\n",
      " 'Delhi Capitals']\n"
     ]
    }
   ],
   "source": [
    "tie_matches = df[df['result'] == 'tie']\n",
    "teams_with_ties = pd.concat([tie_matches['team1'], tie_matches['team2']]).unique()\n",
    "print(\"Teams where match result is tie:\")\n",
    "print(teams_with_ties)"
   ]
  },
  {
   "cell_type": "code",
   "execution_count": 15,
   "id": "fa0c5238",
   "metadata": {},
   "outputs": [
    {
     "name": "stdout",
     "output_type": "stream",
     "text": [
      "Team who won by highest runs: Mumbai Indians\n"
     ]
    }
   ],
   "source": [
    "df['win_by_runs'] = df['win_by_runs'].fillna(0) \n",
    "max_win = df[df['win_by_runs'] == df['win_by_runs'].max()]\n",
    "team_with_max_win = max_win['winner'].iloc[0]\n",
    "print(f\"Team who won by highest runs: {team_with_max_win}\")"
   ]
  },
  {
   "cell_type": "code",
   "execution_count": 16,
   "id": "3a3a3562",
   "metadata": {},
   "outputs": [
    {
     "name": "stdout",
     "output_type": "stream",
     "text": [
      "Team who won by lowest runs: Rising Pune Supergiant\n"
     ]
    }
   ],
   "source": [
    "min_win = df[df['win_by_runs'] == df['win_by_runs'].min()]\n",
    "team_with_min_win = min_win['winner'].iloc[0]\n",
    "print(f\"Team who won by lowest runs: {team_with_min_win}\")"
   ]
  },
  {
   "cell_type": "code",
   "execution_count": 17,
   "id": "ad2e0277",
   "metadata": {},
   "outputs": [
    {
     "name": "stdout",
     "output_type": "stream",
     "text": [
      "Players awarded Player of the Match more than 3 times:\n",
      "CH Gayle          21\n",
      "AB de Villiers    20\n",
      "RG Sharma         17\n",
      "MS Dhoni          17\n",
      "DA Warner         17\n",
      "                  ..\n",
      "SK Warne           4\n",
      "CA Lynn            4\n",
      "SS Iyer            4\n",
      "ML Hayden          4\n",
      "KH Pandya          4\n",
      "Name: player_of_match, Length: 65, dtype: int64\n"
     ]
    }
   ],
   "source": [
    "player_of_match_count = df['player_of_match'].value_counts()\n",
    "players_awarded_more_than_3 = player_of_match_count[player_of_match_count > 3]\n",
    "print(\"Players awarded Player of the Match more than 3 times:\")\n",
    "print(players_awarded_more_than_3)"
   ]
  },
  {
   "cell_type": "code",
   "execution_count": 18,
   "id": "09759c7d",
   "metadata": {},
   "outputs": [
    {
     "name": "stdout",
     "output_type": "stream",
     "text": [
      "Player awarded Player of the Match the most times: CH Gayle\n"
     ]
    }
   ],
   "source": [
    "player_of_the_match_count = df['player_of_match'].value_counts()\n",
    "max_player = player_of_the_match_count.idxmax()\n",
    "print(f\"Player awarded Player of the Match the most times: {max_player}\")"
   ]
  },
  {
   "cell_type": "code",
   "execution_count": 19,
   "id": "3216563f",
   "metadata": {},
   "outputs": [
    {
     "name": "stdout",
     "output_type": "stream",
     "text": [
      "Venue where the team won by highest runs: Feroz Shah Kotla\n"
     ]
    }
   ],
   "source": [
    "df['win_by_runs'] = df['win_by_runs'].fillna(0) \n",
    "max_win_venue = df[df['win_by_runs'] == df['win_by_runs'].max()]['venue'].iloc[0]\n",
    "print(f\"Venue where the team won by highest runs: {max_win_venue}\")"
   ]
  },
  {
   "cell_type": "code",
   "execution_count": 20,
   "id": "5dece7b4",
   "metadata": {},
   "outputs": [
    {
     "name": "stdout",
     "output_type": "stream",
     "text": [
      "Venue where the team won by lowest runs: Maharashtra Cricket Association Stadium\n"
     ]
    }
   ],
   "source": [
    "min_win_venue = df[df['win_by_runs'] == df['win_by_runs'].min()]['venue'].iloc[0]\n",
    "print(f\"Venue where the team won by lowest runs: {min_win_venue}\")"
   ]
  },
  {
   "cell_type": "code",
   "execution_count": 23,
   "id": "aabfa27a",
   "metadata": {},
   "outputs": [
    {
     "name": "stdout",
     "output_type": "stream",
     "text": [
      "The umpire with the maximum count of appearances is 'S Ravi' with 114 appearances.\n"
     ]
    }
   ],
   "source": [
    "umpires = pd.concat([df['umpire1'], df['umpire2'], df['umpire3']])\n",
    "umpire_count = umpires.value_counts()\n",
    "max_umpire = umpire_count.idxmax()\n",
    "max_count = umpire_count.max()\n",
    "print(f\"The umpire with the maximum count of appearances is '{max_umpire}' with {max_count} appearances.\")"
   ]
  },
  {
   "cell_type": "code",
   "execution_count": 24,
   "id": "3bf0e960",
   "metadata": {},
   "outputs": [
    {
     "name": "stdout",
     "output_type": "stream",
     "text": [
      "Total matches played in each season:\n",
      "2008    58\n",
      "2009    57\n",
      "2010    60\n",
      "2011    73\n",
      "2012    74\n",
      "2013    76\n",
      "2014    60\n",
      "2015    59\n",
      "2016    60\n",
      "2017    59\n",
      "2018    60\n",
      "2019    60\n",
      "Name: season, dtype: int64\n"
     ]
    }
   ],
   "source": [
    "matches_per_season = df['season'].value_counts().sort_index()\n",
    "print(\"Total matches played in each season:\")\n",
    "print(matches_per_season)"
   ]
  },
  {
   "cell_type": "code",
   "execution_count": 27,
   "id": "e241511a",
   "metadata": {},
   "outputs": [],
   "source": [
    "## no total runs in dataset but only win by runs"
   ]
  },
  {
   "cell_type": "code",
   "execution_count": 26,
   "id": "4d9cfffe",
   "metadata": {},
   "outputs": [
    {
     "name": "stdout",
     "output_type": "stream",
     "text": [
      "Total 'win by runs' in each season:\n",
      "season\n",
      "2008     705\n",
      "2009     764\n",
      "2010     976\n",
      "2011    1098\n",
      "2012     960\n",
      "2013    1241\n",
      "2014     644\n",
      "2015     850\n",
      "2016     676\n",
      "2017     788\n",
      "2018     675\n",
      "2019     665\n",
      "Name: win_by_runs, dtype: int64\n"
     ]
    }
   ],
   "source": [
    "df['win_by_runs'] = df['win_by_runs'].fillna(0)\n",
    "win_by_runs_per_season = df.groupby('season')['win_by_runs'].sum()\n",
    "print(\"Total 'win by runs' in each season:\")\n",
    "print(win_by_runs_per_season)"
   ]
  },
  {
   "cell_type": "code",
   "execution_count": 28,
   "id": "58742e8e",
   "metadata": {},
   "outputs": [
    {
     "name": "stdout",
     "output_type": "stream",
     "text": [
      "Number of tosses won by each team:\n",
      "Mumbai Indians                 98\n",
      "Kolkata Knight Riders          92\n",
      "Chennai Super Kings            89\n",
      "Royal Challengers Bangalore    81\n",
      "Kings XI Punjab                81\n",
      "Delhi Daredevils               80\n",
      "Rajasthan Royals               80\n",
      "Sunrisers Hyderabad            46\n",
      "Deccan Chargers                43\n",
      "Pune Warriors                  20\n",
      "Gujarat Lions                  15\n",
      "Delhi Capitals                 10\n",
      "Kochi Tuskers Kerala            8\n",
      "Rising Pune Supergiants         7\n",
      "Rising Pune Supergiant          6\n",
      "Name: toss_winner, dtype: int64\n"
     ]
    }
   ],
   "source": [
    "toss_wins = df['toss_winner'].value_counts()\n",
    "print(\"Number of tosses won by each team:\")\n",
    "print(toss_wins)"
   ]
  },
  {
   "cell_type": "code",
   "execution_count": 29,
   "id": "12282d2c",
   "metadata": {},
   "outputs": [
    {
     "data": {
      "image/png": "[encoded data removed]",
      "text/plain": [
       "<Figure size 864x576 with 1 Axes>"
      ]
     },
     "metadata": {
      "needs_background": "light"
     },
     "output_type": "display_data"
    }
   ],
   "source": [
    "toss_decision_season = df.groupby('season')['toss_decision'].value_counts().unstack()\n",
    "toss_decision_season.plot(kind='bar', stacked=True, figsize=(12, 8))\n",
    "plt.title('Toss Decision Across Seasons')\n",
    "plt.xlabel('Season')\n",
    "plt.ylabel('Number of Tosses')\n",
    "plt.legend(title='Toss Decision')\n",
    "plt.show()"
   ]
  },
  {
   "cell_type": "code",
   "execution_count": 32,
   "id": "1ee88856",
   "metadata": {},
   "outputs": [
    {
     "data": {
      "image/png": "[encoded data removed]",
      "text/plain": [
       "<Figure size 720x432 with 1 Axes>"
      ]
     },
     "metadata": {
      "needs_background": "light"
     },
     "output_type": "display_data"
    }
   ],
   "source": [
    "deliveries=pd.read_csv(\"D:\\\\230968284_Abhinav\\\\DA_3Sem_BTech (Data Analytics)\\\\week_4\\\\deliveries.csv\")\n",
    "dismissal_counts = deliveries['dismissal_kind'].value_counts()\n",
    "plt.figure(figsize=(10, 6))\n",
    "sns.barplot(x=dismissal_counts.index, y=dismissal_counts.values, palette='viridis')\n",
    "plt.title('Dismissal Kinds Distribution')\n",
    "plt.xlabel('Dismissal Kind')\n",
    "plt.ylabel('Count')\n",
    "plt.xticks(rotation=45)\n",
    "plt.show()"
   ]
  },
  {
   "cell_type": "code",
   "execution_count": 33,
   "id": "650909ac",
   "metadata": {},
   "outputs": [
    {
     "data": {
      "image/png": "[encoded data removed]",
      "text/plain": [
       "<Figure size 864x576 with 1 Axes>"
      ]
     },
     "metadata": {
      "needs_background": "light"
     },
     "output_type": "display_data"
    }
   ],
   "source": [
    "top_scorers = deliveries.groupby('batsman')['total_runs'].sum().nlargest(10)\n",
    "plt.figure(figsize=(12, 8))\n",
    "sns.barplot(x=top_scorers.index, y=top_scorers.values, palette='viridis')\n",
    "plt.title('Top 10 Run Scorers in IPL')\n",
    "plt.xlabel('Player')\n",
    "plt.ylabel('Total Runs')\n",
    "plt.xticks(rotation=45)\n",
    "plt.show()"
   ]
  },
  {
   "cell_type": "code",
   "execution_count": 34,
   "id": "9038f7f1",
   "metadata": {},
   "outputs": [
    {
     "data": {
      "image/png": "[encoded data removed]",
      "text/plain": [
       "<Figure size 864x576 with 1 Axes>"
      ]
     },
     "metadata": {
      "needs_background": "light"
     },
     "output_type": "display_data"
    }
   ],
   "source": [
    "mom_awards = df['player_of_match'].value_counts().nlargest(10)\n",
    "plt.figure(figsize=(12, 8))\n",
    "sns.barplot(x=mom_awards.index, y=mom_awards.values, palette='viridis')\n",
    "plt.title('Top 10 Players with Most Player of the Match Awards')\n",
    "plt.xlabel('Player')\n",
    "plt.ylabel('Number of Awards')\n",
    "plt.xticks(rotation=45)\n",
    "plt.show()"
   ]
  },
  {
   "cell_type": "code",
   "execution_count": 35,
   "id": "3ebb9d08",
   "metadata": {},
   "outputs": [
    {
     "name": "stdout",
     "output_type": "stream",
     "text": [
      "Total number of matches played by each team:\n",
      "Mumbai Indians                 187\n",
      "Royal Challengers Bangalore    180\n",
      "Kolkata Knight Riders          178\n",
      "Kings XI Punjab                176\n",
      "Chennai Super Kings            164\n",
      "Delhi Daredevils               161\n",
      "Rajasthan Royals               147\n",
      "Sunrisers Hyderabad            108\n",
      "Deccan Chargers                 75\n",
      "Pune Warriors                   46\n",
      "Gujarat Lions                   30\n",
      "Rising Pune Supergiant          16\n",
      "Delhi Capitals                  16\n",
      "Kochi Tuskers Kerala            14\n",
      "Rising Pune Supergiants         14\n",
      "dtype: int64\n"
     ]
    }
   ],
   "source": [
    "matches_played_by_team = pd.concat([df['team1'], df['team2']]).value_counts()\n",
    "print(\"Total number of matches played by each team:\")\n",
    "print(matches_played_by_team)"
   ]
  },
  {
   "cell_type": "code",
   "execution_count": 37,
   "id": "7f3230c3",
   "metadata": {},
   "outputs": [
    {
     "name": "stdout",
     "output_type": "stream",
     "text": [
      "                             Matches Played  Matches Won  Win Rate (%)\n",
      "Chennai Super Kings                     164          100     60.975610\n",
      "Deccan Chargers                          75           29     38.666667\n",
      "Delhi Capitals                           16           10     62.500000\n",
      "Delhi Daredevils                        161           67     41.614907\n",
      "Gujarat Lions                            30           13     43.333333\n",
      "Kings XI Punjab                         176           82     46.590909\n",
      "Kochi Tuskers Kerala                     14            6     42.857143\n",
      "Kolkata Knight Riders                   178           92     51.685393\n",
      "Mumbai Indians                          187          109     58.288770\n",
      "Pune Warriors                            46           12     26.086957\n",
      "Rajasthan Royals                        147           75     51.020408\n",
      "Rising Pune Supergiant                   16           10     62.500000\n",
      "Rising Pune Supergiants                  14            5     35.714286\n",
      "Royal Challengers Bangalore             180           84     46.666667\n",
      "Sunrisers Hyderabad                     108           58     53.703704\n"
     ]
    }
   ],
   "source": [
    "matches_played = matches_played_by_team\n",
    "matches_won = df['winner'].value_counts()\n",
    "win_rate = (matches_won / matches_played).fillna(0) * 100\n",
    "comparison_df = pd.DataFrame({\n",
    "    'Matches Played': matches_played,\n",
    "    'Matches Won': matches_won,\n",
    "    'Win Rate (%)': win_rate\n",
    "}).fillna(0)\n",
    "\n",
    "print(comparison_df)"
   ]
  },
  {
   "cell_type": "code",
   "execution_count": 39,
   "id": "9c98f044",
   "metadata": {},
   "outputs": [
    {
     "data": {
      "image/png": "[encoded data removed]",
      "text/plain": [
       "<Figure size 864x576 with 1 Axes>"
      ]
     },
     "metadata": {
      "needs_background": "light"
     },
     "output_type": "display_data"
    }
   ],
   "source": [
    "won_matches_dist = df['winner'].value_counts()\n",
    "plt.figure(figsize=(12, 8))\n",
    "sns.barplot(x=won_matches_dist.index, y=won_matches_dist.values, palette='viridis')\n",
    "plt.title('Distribution of Matches Won by Teams')\n",
    "plt.xlabel('Team')\n",
    "plt.ylabel('Number of Matches Won')\n",
    "plt.xticks(rotation=45)\n",
    "plt.show()"
   ]
  },
  {
   "cell_type": "code",
   "execution_count": 40,
   "id": "90528cba",
   "metadata": {},
   "outputs": [
    {
     "name": "stdout",
     "output_type": "stream",
     "text": [
      "Ratio between total matches and won matches:\n",
      "Chennai Super Kings            0.609756\n",
      "Deccan Chargers                0.386667\n",
      "Delhi Capitals                 0.625000\n",
      "Delhi Daredevils               0.416149\n",
      "Gujarat Lions                  0.433333\n",
      "Kings XI Punjab                0.465909\n",
      "Kochi Tuskers Kerala           0.428571\n",
      "Kolkata Knight Riders          0.516854\n",
      "Mumbai Indians                 0.582888\n",
      "Pune Warriors                  0.260870\n",
      "Rajasthan Royals               0.510204\n",
      "Rising Pune Supergiant         0.625000\n",
      "Rising Pune Supergiants        0.357143\n",
      "Royal Challengers Bangalore    0.466667\n",
      "Sunrisers Hyderabad            0.537037\n",
      "dtype: float64\n"
     ]
    }
   ],
   "source": [
    "win_ratio = (matches_won / matches_played).fillna(0)\n",
    "print(\"Ratio between total matches and won matches:\")\n",
    "print(win_ratio)"
   ]
  },
  {
   "cell_type": "code",
   "execution_count": 41,
   "id": "fd04f4d8",
   "metadata": {},
   "outputs": [
    {
     "name": "stdout",
     "output_type": "stream",
     "text": [
      "Choice of each team after winning the toss:\n",
      "field    463\n",
      "bat      293\n",
      "Name: toss_decision, dtype: int64\n"
     ]
    }
   ],
   "source": [
    "toss_choice = df['toss_decision'].value_counts()\n",
    "print(\"Choice of each team after winning the toss:\")\n",
    "print(toss_choice)"
   ]
  },
  {
   "cell_type": "code",
   "execution_count": 42,
   "id": "119c42d2",
   "metadata": {},
   "outputs": [
    {
     "name": "stdout",
     "output_type": "stream",
     "text": [
      "Toss choices made by each team after winning the toss:\n",
      "                     toss_winner toss_decision\n",
      "0    Royal Challengers Bangalore         field\n",
      "1         Rising Pune Supergiant         field\n",
      "2          Kolkata Knight Riders         field\n",
      "3                Kings XI Punjab         field\n",
      "4    Royal Challengers Bangalore           bat\n",
      "..                           ...           ...\n",
      "751               Mumbai Indians         field\n",
      "752          Chennai Super Kings           bat\n",
      "753               Delhi Capitals         field\n",
      "754          Chennai Super Kings         field\n",
      "755               Mumbai Indians           bat\n",
      "\n",
      "[756 rows x 2 columns]\n"
     ]
    }
   ],
   "source": [
    "toss_choices = df[['toss_winner', 'toss_decision']]\n",
    "print(\"Toss choices made by each team after winning the toss:\")\n",
    "print(toss_choices)"
   ]
  },
  {
   "cell_type": "code",
   "execution_count": 43,
   "id": "a01bd5b2",
   "metadata": {},
   "outputs": [
    {
     "name": "stdout",
     "output_type": "stream",
     "text": [
      "Number of times each team chose 'bat' or 'field' after winning the toss:\n",
      "                             Times Chose to Bat  Times Chose to Field\n",
      "toss_winner                                                          \n",
      "Chennai Super Kings                          48                    41\n",
      "Deccan Chargers                              24                    19\n",
      "Delhi Capitals                                2                     8\n",
      "Delhi Daredevils                             29                    51\n",
      "Gujarat Lions                                 1                    14\n",
      "Kings XI Punjab                              26                    55\n",
      "Kochi Tuskers Kerala                          3                     5\n",
      "Kolkata Knight Riders                        30                    62\n",
      "Mumbai Indians                               44                    54\n",
      "Pune Warriors                                11                     9\n",
      "Rajasthan Royals                             32                    48\n",
      "Rising Pune Supergiant                        0                     6\n",
      "Rising Pune Supergiants                       3                     4\n",
      "Royal Challengers Bangalore                  20                    61\n",
      "Sunrisers Hyderabad                          20                    26\n"
     ]
    }
   ],
   "source": [
    "toss_choices = df[['toss_winner', 'toss_decision']]\n",
    "toss_summary = toss_choices.groupby(['toss_winner', 'toss_decision']).size().unstack(fill_value=0)\n",
    "toss_summary.columns = ['Times Chose to Bat', 'Times Chose to Field']\n",
    "print(\"Number of times each team chose 'bat' or 'field' after winning the toss:\")\n",
    "print(toss_summary)"
   ]
  },
  {
   "cell_type": "code",
   "execution_count": null,
   "id": "f1573ea4",
   "metadata": {},
   "outputs": [],
   "source": []
  }
 ],
 "metadata": {
  "kernelspec": {
   "display_name": "Python 3 (ipykernel)",
   "language": "python",
   "name": "python3"
  },
  "language_info": {
   "codemirror_mode": {
    "name": "ipython",
    "version": 3
   },
   "file_extension": ".py",
   "mimetype": "text/x-python",
   "name": "python",
   "nbconvert_exporter": "python",
   "pygments_lexer": "ipython3",
   "version": "3.9.12"
  }
 },
 "nbformat": 4,
 "nbformat_minor": 5
}
